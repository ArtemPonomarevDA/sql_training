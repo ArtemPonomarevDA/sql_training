{
  "nbformat": 4,
  "nbformat_minor": 0,
  "metadata": {
    "colab": {
      "name": "testovoe_bookmate.ipynb",
      "provenance": [],
      "collapsed_sections": [
        "jbGB3SdWQsUR",
        "4EyoP2wjRD-r"
      ]
    },
    "kernelspec": {
      "name": "python3",
      "display_name": "Python 3"
    }
  },
  "cells": [
    {
      "cell_type": "markdown",
      "metadata": {
        "id": "jbGB3SdWQsUR"
      },
      "source": [
        "# Создание таблиц\n"
      ]
    },
    {
      "cell_type": "markdown",
      "metadata": {
        "id": "scf4mSpjLMBe"
      },
      "source": [
        "Подключим sqlite3."
      ]
    },
    {
      "cell_type": "code",
      "metadata": {
        "colab": {
          "base_uri": "https://localhost:8080/"
        },
        "id": "FKweNaTKI3s9",
        "outputId": "7fde5b3f-aea2-4db1-eb45-a95caf398a29"
      },
      "source": [
        "!wget https://www.sqlite.org/src/tarball/sqlite.tar.gz?r=release -O sqlite.tar.gz\n",
        "!tar xzf sqlite.tar.gz\n",
        "%cd sqlite/\n",
        "!./configure\n",
        "!make sqlite3.c\n",
        "%cd /content\n",
        "!npx degit coleifer/pysqlite3 -f\n",
        "!cp sqlite/sqlite3.[ch] .\n",
        "!python setup.py build_static build\n",
        "!cp build/lib.linux-x86_64-3.6/pysqlite3/_sqlite3.cpython-36m-x86_64-linux-gnu.so \\\n",
        "    /usr/lib/python3.6/lib-dynload/_sqlite3.cpython-36m-x86_64-linux-gnu.so"
      ],
      "execution_count": null,
      "outputs": [
        {
          "output_type": "stream",
          "text": [
            "--2021-03-16 12:09:56--  https://www.sqlite.org/src/tarball/sqlite.tar.gz?r=release\n",
            "Resolving www.sqlite.org (www.sqlite.org)... 45.33.6.223, 2600:3c00::f03c:91ff:fe96:b959\n",
            "Connecting to www.sqlite.org (www.sqlite.org)|45.33.6.223|:443... connected.\n",
            "HTTP request sent, awaiting response... 200 OK\n",
            "Length: 11270632 (11M) [application/x-compressed]\n",
            "Saving to: ‘sqlite.tar.gz’\n",
            "\n",
            "sqlite.tar.gz       100%[===================>]  10.75M  40.9MB/s    in 0.3s    \n",
            "\n",
            "2021-03-16 12:09:57 (40.9 MB/s) - ‘sqlite.tar.gz’ saved [11270632/11270632]\n",
            "\n",
            "/content/sqlite\n",
            "checking build system type... x86_64-pc-linux-gnu\n",
            "checking host system type... x86_64-pc-linux-gnu\n",
            "checking for gcc... gcc\n",
            "checking whether the C compiler works... yes\n",
            "checking for C compiler default output file name... a.out\n",
            "checking for suffix of executables... \n",
            "checking whether we are cross compiling... no\n",
            "checking for suffix of object files... o\n",
            "checking whether we are using the GNU C compiler... yes\n",
            "checking whether gcc accepts -g... yes\n",
            "checking for gcc option to accept ISO C89... none needed\n",
            "checking for a sed that does not truncate output... /bin/sed\n",
            "checking for grep that handles long lines and -e... /bin/grep\n",
            "checking for egrep... /bin/grep -E\n",
            "checking for fgrep... /bin/grep -F\n",
            "checking for ld used by gcc... /usr/bin/ld\n",
            "checking if the linker (/usr/bin/ld) is GNU ld... yes\n",
            "checking for BSD- or MS-compatible name lister (nm)... /usr/bin/nm -B\n",
            "checking the name lister (/usr/bin/nm -B) interface... BSD nm\n",
            "checking whether ln -s works... yes\n",
            "checking the maximum length of command line arguments... 1572864\n",
            "checking whether the shell understands some XSI constructs... yes\n",
            "checking whether the shell understands \"+=\"... yes\n",
            "checking for /usr/bin/ld option to reload object files... -r\n",
            "checking for objdump... objdump\n",
            "checking how to recognize dependent libraries... pass_all\n",
            "checking for ar... ar\n",
            "checking for strip... strip\n",
            "checking for ranlib... ranlib\n",
            "checking command to parse /usr/bin/nm -B output from gcc object... ok\n",
            "./configure: line 5196: /usr/bin/file: No such file or directory\n",
            "checking how to run the C preprocessor... gcc -E\n",
            "checking for ANSI C header files... yes\n",
            "checking for sys/types.h... yes\n",
            "checking for sys/stat.h... yes\n",
            "checking for stdlib.h... yes\n",
            "checking for string.h... yes\n",
            "checking for memory.h... yes\n",
            "checking for strings.h... yes\n",
            "checking for inttypes.h... yes\n",
            "checking for stdint.h... yes\n",
            "checking for unistd.h... yes\n",
            "checking for dlfcn.h... yes\n",
            "checking for objdir... .libs\n",
            "checking if gcc supports -fno-rtti -fno-exceptions... no\n",
            "checking for gcc option to produce PIC... -fPIC -DPIC\n",
            "checking if gcc PIC flag -fPIC -DPIC works... yes\n",
            "checking if gcc static flag -static works... yes\n",
            "checking if gcc supports -c -o file.o... yes\n",
            "checking if gcc supports -c -o file.o... (cached) yes\n",
            "checking whether the gcc linker (/usr/bin/ld) supports shared libraries... yes\n",
            "checking whether -lc should be explicitly linked in... no\n",
            "checking dynamic linker characteristics... GNU/Linux ld.so\n",
            "checking how to hardcode library paths into programs... immediate\n",
            "checking whether stripping libraries is possible... yes\n",
            "checking if libtool supports shared libraries... yes\n",
            "checking whether to build shared libraries... yes\n",
            "checking whether to build static libraries... yes\n",
            "checking for a BSD-compatible install... /usr/bin/install -c\n",
            "checking for special C compiler options needed for large files... no\n",
            "checking for _FILE_OFFSET_BITS value needed for large files... no\n",
            "checking for int8_t... yes\n",
            "checking for int16_t... yes\n",
            "checking for int32_t... yes\n",
            "checking for int64_t... yes\n",
            "checking for intptr_t... yes\n",
            "checking for uint8_t... yes\n",
            "checking for uint16_t... yes\n",
            "checking for uint32_t... yes\n",
            "checking for uint64_t... yes\n",
            "checking for uintptr_t... yes\n",
            "checking for sys/types.h... (cached) yes\n",
            "checking for stdlib.h... (cached) yes\n",
            "checking for stdint.h... (cached) yes\n",
            "checking for inttypes.h... (cached) yes\n",
            "checking malloc.h usability... yes\n",
            "checking malloc.h presence... yes\n",
            "checking for malloc.h... yes\n",
            "checking for fdatasync... yes\n",
            "checking for gmtime_r... yes\n",
            "checking for isnan... yes\n",
            "checking for localtime_r... yes\n",
            "checking for localtime_s... no\n",
            "checking for malloc_usable_size... yes\n",
            "checking for strchrnul... yes\n",
            "checking for usleep... yes\n",
            "checking for utime... yes\n",
            "checking for pread... yes\n",
            "checking for pread64... yes\n",
            "checking for pwrite... yes\n",
            "checking for pwrite64... yes\n",
            "checking for tclsh8.7... no\n",
            "checking for tclsh8.6... tclsh8.6\n",
            "configure: Version set to 3.35\n",
            "configure: Release set to 3.35.1\n",
            "checking whether to support threadsafe operation... yes\n",
            "checking for library containing pthread_create... -lpthread\n",
            "checking for library containing pthread_mutexattr_init... none required\n",
            "checking whether to support shared library linked as release mode or not... no\n",
            "checking whether to use an in-ram database for temporary tables... no\n",
            "checking if executables have the .exe suffix... unknown\n",
            "checking for Tcl configuration... found /usr/lib/tclConfig.sh\n",
            "checking for existence of /usr/lib/tclConfig.sh... loading\n",
            "checking for library containing readline... no\n",
            "checking for library containing tgetent... -lncurses\n",
            "checking for readline in -lreadline... yes\n",
            "checking readline.h usability... no\n",
            "checking readline.h presence... no\n",
            "checking for readline.h... no\n",
            "checking for /usr/include/readline.h... no\n",
            "checking for /usr/include/readline/readline.h... yes\n",
            "checking for library containing fdatasync... none required\n",
            "checking build type... release\n",
            "checking zlib.h usability... yes\n",
            "checking zlib.h presence... yes\n",
            "checking for zlib.h... yes\n",
            "checking for library containing deflate... -lz\n",
            "checking for library containing dlopen... -ldl\n",
            "checking whether to support math functions... yes\n",
            "checking for library containing ceil... -lm\n",
            "checking whether to support MEMSYS5... no\n",
            "checking whether to support MEMSYS3... no\n",
            "checking whether to support FTS3... no\n",
            "checking whether to support FTS4... no\n",
            "checking whether to support FTS5... no\n",
            "checking whether to support JSON... no\n",
            "checking whether to support LIMIT on UPDATE and DELETE statements... no\n",
            "checking whether to support GEOPOLY... no\n",
            "checking whether to support RTREE... no\n",
            "checking whether to support SESSION... no\n",
            "configure: creating ./config.status\n",
            "config.status: creating Makefile\n",
            "config.status: creating sqlite3.pc\n",
            "config.status: creating config.h\n",
            "config.status: config.h is unchanged\n",
            "config.status: executing libtool commands\n",
            "make: 'sqlite3.c' is up to date.\n",
            "/content\n",
            "\u001b[K\u001b[?25hnpx: installed 1 in 1.021s\n",
            "\u001b[36m> destination directory is not empty. Using --force, continuing\u001b[39m\n",
            "\u001b[36m> cloned \u001b[1mcoleifer/pysqlite3\u001b[22m#\u001b[1mmaster\u001b[22m\u001b[39m\n",
            "running build_static\n",
            "Builds a C extension using a sqlite3 amalgamation\n",
            "building 'pysqlite3._sqlite3' extension\n",
            "x86_64-linux-gnu-gcc -pthread -Wno-unused-result -Wsign-compare -DNDEBUG -g -fwrapv -O2 -Wall -g -fdebug-prefix-map=/build/python3.7-a56wZI/python3.7-3.7.10=. -fstack-protector-strong -Wformat -Werror=format-security -g -fdebug-prefix-map=/build/python3.7-a56wZI/python3.7-3.7.10=. -fstack-protector-strong -Wformat -Werror=format-security -Wdate-time -D_FORTIFY_SOURCE=2 -fPIC -DMODULE_NAME=\"pysqlite3.dbapi2\" -DSQLITE_ALLOW_COVERING_INDEX_SCAN=1 -DSQLITE_ENABLE_FTS3=1 -DSQLITE_ENABLE_FTS3_PARENTHESIS=1 -DSQLITE_ENABLE_FTS4=1 -DSQLITE_ENABLE_FTS5=1 -DSQLITE_ENABLE_JSON1=1 -DSQLITE_ENABLE_LOAD_EXTENSION=1 -DSQLITE_ENABLE_RTREE=1 -DSQLITE_ENABLE_STAT4=1 -DSQLITE_ENABLE_UPDATE_DELETE_LIMIT=1 -DSQLITE_SOUNDEX=1 -DSQLITE_USE_URI=1 -DSQLITE_TEMP_STORE=3 -DSQLITE_MAX_VARIABLE_NUMBER=250000 -DSQLITE_MAX_MMAP_SIZE=1099511627776 -I. -I/usr/include/python3.7m -c src/module.c -o build/temp.linux-x86_64-3.7/src/module.o\n",
            "x86_64-linux-gnu-gcc -pthread -Wno-unused-result -Wsign-compare -DNDEBUG -g -fwrapv -O2 -Wall -g -fdebug-prefix-map=/build/python3.7-a56wZI/python3.7-3.7.10=. -fstack-protector-strong -Wformat -Werror=format-security -g -fdebug-prefix-map=/build/python3.7-a56wZI/python3.7-3.7.10=. -fstack-protector-strong -Wformat -Werror=format-security -Wdate-time -D_FORTIFY_SOURCE=2 -fPIC -DMODULE_NAME=\"pysqlite3.dbapi2\" -DSQLITE_ALLOW_COVERING_INDEX_SCAN=1 -DSQLITE_ENABLE_FTS3=1 -DSQLITE_ENABLE_FTS3_PARENTHESIS=1 -DSQLITE_ENABLE_FTS4=1 -DSQLITE_ENABLE_FTS5=1 -DSQLITE_ENABLE_JSON1=1 -DSQLITE_ENABLE_LOAD_EXTENSION=1 -DSQLITE_ENABLE_RTREE=1 -DSQLITE_ENABLE_STAT4=1 -DSQLITE_ENABLE_UPDATE_DELETE_LIMIT=1 -DSQLITE_SOUNDEX=1 -DSQLITE_USE_URI=1 -DSQLITE_TEMP_STORE=3 -DSQLITE_MAX_VARIABLE_NUMBER=250000 -DSQLITE_MAX_MMAP_SIZE=1099511627776 -I. -I/usr/include/python3.7m -c src/connection.c -o build/temp.linux-x86_64-3.7/src/connection.o\n",
            "x86_64-linux-gnu-gcc -pthread -Wno-unused-result -Wsign-compare -DNDEBUG -g -fwrapv -O2 -Wall -g -fdebug-prefix-map=/build/python3.7-a56wZI/python3.7-3.7.10=. -fstack-protector-strong -Wformat -Werror=format-security -g -fdebug-prefix-map=/build/python3.7-a56wZI/python3.7-3.7.10=. -fstack-protector-strong -Wformat -Werror=format-security -Wdate-time -D_FORTIFY_SOURCE=2 -fPIC -DMODULE_NAME=\"pysqlite3.dbapi2\" -DSQLITE_ALLOW_COVERING_INDEX_SCAN=1 -DSQLITE_ENABLE_FTS3=1 -DSQLITE_ENABLE_FTS3_PARENTHESIS=1 -DSQLITE_ENABLE_FTS4=1 -DSQLITE_ENABLE_FTS5=1 -DSQLITE_ENABLE_JSON1=1 -DSQLITE_ENABLE_LOAD_EXTENSION=1 -DSQLITE_ENABLE_RTREE=1 -DSQLITE_ENABLE_STAT4=1 -DSQLITE_ENABLE_UPDATE_DELETE_LIMIT=1 -DSQLITE_SOUNDEX=1 -DSQLITE_USE_URI=1 -DSQLITE_TEMP_STORE=3 -DSQLITE_MAX_VARIABLE_NUMBER=250000 -DSQLITE_MAX_MMAP_SIZE=1099511627776 -I. -I/usr/include/python3.7m -c src/cursor.c -o build/temp.linux-x86_64-3.7/src/cursor.o\n",
            "x86_64-linux-gnu-gcc -pthread -Wno-unused-result -Wsign-compare -DNDEBUG -g -fwrapv -O2 -Wall -g -fdebug-prefix-map=/build/python3.7-a56wZI/python3.7-3.7.10=. -fstack-protector-strong -Wformat -Werror=format-security -g -fdebug-prefix-map=/build/python3.7-a56wZI/python3.7-3.7.10=. -fstack-protector-strong -Wformat -Werror=format-security -Wdate-time -D_FORTIFY_SOURCE=2 -fPIC -DMODULE_NAME=\"pysqlite3.dbapi2\" -DSQLITE_ALLOW_COVERING_INDEX_SCAN=1 -DSQLITE_ENABLE_FTS3=1 -DSQLITE_ENABLE_FTS3_PARENTHESIS=1 -DSQLITE_ENABLE_FTS4=1 -DSQLITE_ENABLE_FTS5=1 -DSQLITE_ENABLE_JSON1=1 -DSQLITE_ENABLE_LOAD_EXTENSION=1 -DSQLITE_ENABLE_RTREE=1 -DSQLITE_ENABLE_STAT4=1 -DSQLITE_ENABLE_UPDATE_DELETE_LIMIT=1 -DSQLITE_SOUNDEX=1 -DSQLITE_USE_URI=1 -DSQLITE_TEMP_STORE=3 -DSQLITE_MAX_VARIABLE_NUMBER=250000 -DSQLITE_MAX_MMAP_SIZE=1099511627776 -I. -I/usr/include/python3.7m -c src/cache.c -o build/temp.linux-x86_64-3.7/src/cache.o\n",
            "x86_64-linux-gnu-gcc -pthread -Wno-unused-result -Wsign-compare -DNDEBUG -g -fwrapv -O2 -Wall -g -fdebug-prefix-map=/build/python3.7-a56wZI/python3.7-3.7.10=. -fstack-protector-strong -Wformat -Werror=format-security -g -fdebug-prefix-map=/build/python3.7-a56wZI/python3.7-3.7.10=. -fstack-protector-strong -Wformat -Werror=format-security -Wdate-time -D_FORTIFY_SOURCE=2 -fPIC -DMODULE_NAME=\"pysqlite3.dbapi2\" -DSQLITE_ALLOW_COVERING_INDEX_SCAN=1 -DSQLITE_ENABLE_FTS3=1 -DSQLITE_ENABLE_FTS3_PARENTHESIS=1 -DSQLITE_ENABLE_FTS4=1 -DSQLITE_ENABLE_FTS5=1 -DSQLITE_ENABLE_JSON1=1 -DSQLITE_ENABLE_LOAD_EXTENSION=1 -DSQLITE_ENABLE_RTREE=1 -DSQLITE_ENABLE_STAT4=1 -DSQLITE_ENABLE_UPDATE_DELETE_LIMIT=1 -DSQLITE_SOUNDEX=1 -DSQLITE_USE_URI=1 -DSQLITE_TEMP_STORE=3 -DSQLITE_MAX_VARIABLE_NUMBER=250000 -DSQLITE_MAX_MMAP_SIZE=1099511627776 -I. -I/usr/include/python3.7m -c src/microprotocols.c -o build/temp.linux-x86_64-3.7/src/microprotocols.o\n",
            "x86_64-linux-gnu-gcc -pthread -Wno-unused-result -Wsign-compare -DNDEBUG -g -fwrapv -O2 -Wall -g -fdebug-prefix-map=/build/python3.7-a56wZI/python3.7-3.7.10=. -fstack-protector-strong -Wformat -Werror=format-security -g -fdebug-prefix-map=/build/python3.7-a56wZI/python3.7-3.7.10=. -fstack-protector-strong -Wformat -Werror=format-security -Wdate-time -D_FORTIFY_SOURCE=2 -fPIC -DMODULE_NAME=\"pysqlite3.dbapi2\" -DSQLITE_ALLOW_COVERING_INDEX_SCAN=1 -DSQLITE_ENABLE_FTS3=1 -DSQLITE_ENABLE_FTS3_PARENTHESIS=1 -DSQLITE_ENABLE_FTS4=1 -DSQLITE_ENABLE_FTS5=1 -DSQLITE_ENABLE_JSON1=1 -DSQLITE_ENABLE_LOAD_EXTENSION=1 -DSQLITE_ENABLE_RTREE=1 -DSQLITE_ENABLE_STAT4=1 -DSQLITE_ENABLE_UPDATE_DELETE_LIMIT=1 -DSQLITE_SOUNDEX=1 -DSQLITE_USE_URI=1 -DSQLITE_TEMP_STORE=3 -DSQLITE_MAX_VARIABLE_NUMBER=250000 -DSQLITE_MAX_MMAP_SIZE=1099511627776 -I. -I/usr/include/python3.7m -c src/prepare_protocol.c -o build/temp.linux-x86_64-3.7/src/prepare_protocol.o\n",
            "x86_64-linux-gnu-gcc -pthread -Wno-unused-result -Wsign-compare -DNDEBUG -g -fwrapv -O2 -Wall -g -fdebug-prefix-map=/build/python3.7-a56wZI/python3.7-3.7.10=. -fstack-protector-strong -Wformat -Werror=format-security -g -fdebug-prefix-map=/build/python3.7-a56wZI/python3.7-3.7.10=. -fstack-protector-strong -Wformat -Werror=format-security -Wdate-time -D_FORTIFY_SOURCE=2 -fPIC -DMODULE_NAME=\"pysqlite3.dbapi2\" -DSQLITE_ALLOW_COVERING_INDEX_SCAN=1 -DSQLITE_ENABLE_FTS3=1 -DSQLITE_ENABLE_FTS3_PARENTHESIS=1 -DSQLITE_ENABLE_FTS4=1 -DSQLITE_ENABLE_FTS5=1 -DSQLITE_ENABLE_JSON1=1 -DSQLITE_ENABLE_LOAD_EXTENSION=1 -DSQLITE_ENABLE_RTREE=1 -DSQLITE_ENABLE_STAT4=1 -DSQLITE_ENABLE_UPDATE_DELETE_LIMIT=1 -DSQLITE_SOUNDEX=1 -DSQLITE_USE_URI=1 -DSQLITE_TEMP_STORE=3 -DSQLITE_MAX_VARIABLE_NUMBER=250000 -DSQLITE_MAX_MMAP_SIZE=1099511627776 -I. -I/usr/include/python3.7m -c src/statement.c -o build/temp.linux-x86_64-3.7/src/statement.o\n",
            "x86_64-linux-gnu-gcc -pthread -Wno-unused-result -Wsign-compare -DNDEBUG -g -fwrapv -O2 -Wall -g -fdebug-prefix-map=/build/python3.7-a56wZI/python3.7-3.7.10=. -fstack-protector-strong -Wformat -Werror=format-security -g -fdebug-prefix-map=/build/python3.7-a56wZI/python3.7-3.7.10=. -fstack-protector-strong -Wformat -Werror=format-security -Wdate-time -D_FORTIFY_SOURCE=2 -fPIC -DMODULE_NAME=\"pysqlite3.dbapi2\" -DSQLITE_ALLOW_COVERING_INDEX_SCAN=1 -DSQLITE_ENABLE_FTS3=1 -DSQLITE_ENABLE_FTS3_PARENTHESIS=1 -DSQLITE_ENABLE_FTS4=1 -DSQLITE_ENABLE_FTS5=1 -DSQLITE_ENABLE_JSON1=1 -DSQLITE_ENABLE_LOAD_EXTENSION=1 -DSQLITE_ENABLE_RTREE=1 -DSQLITE_ENABLE_STAT4=1 -DSQLITE_ENABLE_UPDATE_DELETE_LIMIT=1 -DSQLITE_SOUNDEX=1 -DSQLITE_USE_URI=1 -DSQLITE_TEMP_STORE=3 -DSQLITE_MAX_VARIABLE_NUMBER=250000 -DSQLITE_MAX_MMAP_SIZE=1099511627776 -I. -I/usr/include/python3.7m -c src/util.c -o build/temp.linux-x86_64-3.7/src/util.o\n",
            "x86_64-linux-gnu-gcc -pthread -Wno-unused-result -Wsign-compare -DNDEBUG -g -fwrapv -O2 -Wall -g -fdebug-prefix-map=/build/python3.7-a56wZI/python3.7-3.7.10=. -fstack-protector-strong -Wformat -Werror=format-security -g -fdebug-prefix-map=/build/python3.7-a56wZI/python3.7-3.7.10=. -fstack-protector-strong -Wformat -Werror=format-security -Wdate-time -D_FORTIFY_SOURCE=2 -fPIC -DMODULE_NAME=\"pysqlite3.dbapi2\" -DSQLITE_ALLOW_COVERING_INDEX_SCAN=1 -DSQLITE_ENABLE_FTS3=1 -DSQLITE_ENABLE_FTS3_PARENTHESIS=1 -DSQLITE_ENABLE_FTS4=1 -DSQLITE_ENABLE_FTS5=1 -DSQLITE_ENABLE_JSON1=1 -DSQLITE_ENABLE_LOAD_EXTENSION=1 -DSQLITE_ENABLE_RTREE=1 -DSQLITE_ENABLE_STAT4=1 -DSQLITE_ENABLE_UPDATE_DELETE_LIMIT=1 -DSQLITE_SOUNDEX=1 -DSQLITE_USE_URI=1 -DSQLITE_TEMP_STORE=3 -DSQLITE_MAX_VARIABLE_NUMBER=250000 -DSQLITE_MAX_MMAP_SIZE=1099511627776 -I. -I/usr/include/python3.7m -c src/row.c -o build/temp.linux-x86_64-3.7/src/row.o\n",
            "x86_64-linux-gnu-gcc -pthread -Wno-unused-result -Wsign-compare -DNDEBUG -g -fwrapv -O2 -Wall -g -fdebug-prefix-map=/build/python3.7-a56wZI/python3.7-3.7.10=. -fstack-protector-strong -Wformat -Werror=format-security -g -fdebug-prefix-map=/build/python3.7-a56wZI/python3.7-3.7.10=. -fstack-protector-strong -Wformat -Werror=format-security -Wdate-time -D_FORTIFY_SOURCE=2 -fPIC -DMODULE_NAME=\"pysqlite3.dbapi2\" -DSQLITE_ALLOW_COVERING_INDEX_SCAN=1 -DSQLITE_ENABLE_FTS3=1 -DSQLITE_ENABLE_FTS3_PARENTHESIS=1 -DSQLITE_ENABLE_FTS4=1 -DSQLITE_ENABLE_FTS5=1 -DSQLITE_ENABLE_JSON1=1 -DSQLITE_ENABLE_LOAD_EXTENSION=1 -DSQLITE_ENABLE_RTREE=1 -DSQLITE_ENABLE_STAT4=1 -DSQLITE_ENABLE_UPDATE_DELETE_LIMIT=1 -DSQLITE_SOUNDEX=1 -DSQLITE_USE_URI=1 -DSQLITE_TEMP_STORE=3 -DSQLITE_MAX_VARIABLE_NUMBER=250000 -DSQLITE_MAX_MMAP_SIZE=1099511627776 -I. -I/usr/include/python3.7m -c src/blob.c -o build/temp.linux-x86_64-3.7/src/blob.o\n",
            "x86_64-linux-gnu-gcc -pthread -Wno-unused-result -Wsign-compare -DNDEBUG -g -fwrapv -O2 -Wall -g -fdebug-prefix-map=/build/python3.7-a56wZI/python3.7-3.7.10=. -fstack-protector-strong -Wformat -Werror=format-security -g -fdebug-prefix-map=/build/python3.7-a56wZI/python3.7-3.7.10=. -fstack-protector-strong -Wformat -Werror=format-security -Wdate-time -D_FORTIFY_SOURCE=2 -fPIC -DMODULE_NAME=\"pysqlite3.dbapi2\" -DSQLITE_ALLOW_COVERING_INDEX_SCAN=1 -DSQLITE_ENABLE_FTS3=1 -DSQLITE_ENABLE_FTS3_PARENTHESIS=1 -DSQLITE_ENABLE_FTS4=1 -DSQLITE_ENABLE_FTS5=1 -DSQLITE_ENABLE_JSON1=1 -DSQLITE_ENABLE_LOAD_EXTENSION=1 -DSQLITE_ENABLE_RTREE=1 -DSQLITE_ENABLE_STAT4=1 -DSQLITE_ENABLE_UPDATE_DELETE_LIMIT=1 -DSQLITE_SOUNDEX=1 -DSQLITE_USE_URI=1 -DSQLITE_TEMP_STORE=3 -DSQLITE_MAX_VARIABLE_NUMBER=250000 -DSQLITE_MAX_MMAP_SIZE=1099511627776 -I. -I/usr/include/python3.7m -c ./sqlite3.c -o build/temp.linux-x86_64-3.7/./sqlite3.o\n",
            "x86_64-linux-gnu-gcc -pthread -shared -Wl,-O1 -Wl,-Bsymbolic-functions -Wl,-Bsymbolic-functions -Wl,-z,relro -Wl,-Bsymbolic-functions -Wl,-z,relro -g -fdebug-prefix-map=/build/python3.7-a56wZI/python3.7-3.7.10=. -fstack-protector-strong -Wformat -Werror=format-security -Wdate-time -D_FORTIFY_SOURCE=2 build/temp.linux-x86_64-3.7/src/module.o build/temp.linux-x86_64-3.7/src/connection.o build/temp.linux-x86_64-3.7/src/cursor.o build/temp.linux-x86_64-3.7/src/cache.o build/temp.linux-x86_64-3.7/src/microprotocols.o build/temp.linux-x86_64-3.7/src/prepare_protocol.o build/temp.linux-x86_64-3.7/src/statement.o build/temp.linux-x86_64-3.7/src/util.o build/temp.linux-x86_64-3.7/src/row.o build/temp.linux-x86_64-3.7/src/blob.o build/temp.linux-x86_64-3.7/./sqlite3.o -o build/lib.linux-x86_64-3.7/pysqlite3/_sqlite3.cpython-37m-x86_64-linux-gnu.so -lm\n",
            "running build\n",
            "running build_py\n",
            "running build_ext\n",
            "Builds a C extension linking against libsqlite3 library\n",
            "cp: cannot stat 'build/lib.linux-x86_64-3.6/pysqlite3/_sqlite3.cpython-36m-x86_64-linux-gnu.so': No such file or directory\n"
          ],
          "name": "stdout"
        }
      ]
    },
    {
      "cell_type": "markdown",
      "metadata": {
        "id": "Xwe25ob1LT41"
      },
      "source": [
        "Импортируем нужные библиотеки."
      ]
    },
    {
      "cell_type": "code",
      "metadata": {
        "id": "9RP2BDTDKRc5"
      },
      "source": [
        "import pandas as pd\n",
        "import numpy as np\n",
        "import sqlite3"
      ],
      "execution_count": null,
      "outputs": []
    },
    {
      "cell_type": "markdown",
      "metadata": {
        "id": "ufkZ-DefLeps"
      },
      "source": [
        "Создадим 3 таблицы согласно тестовому заданию. Для удобства изменим названия некоторых столбцов."
      ]
    },
    {
      "cell_type": "code",
      "metadata": {
        "id": "C53ytLxvKRzp"
      },
      "source": [
        "orders = pd.DataFrame({'date': pd.Series(pd.date_range(start='2021-03-15', end='2021-03-16', freq='S')).sample(200, random_state=21).values,\n",
        "                       'clientId': pd.Series(range(1250, 1350)).sample(200, replace=True, random_state=21).values,\n",
        "                       'id': pd.Series(range(5000, 5200)).sample(200, random_state=21).values,\n",
        "                       'ClientOrderStateID': pd.Series(range(1,4)).sample(200, replace=True, random_state=21).values\n",
        "                       }\n",
        "                      )"
      ],
      "execution_count": null,
      "outputs": []
    },
    {
      "cell_type": "code",
      "metadata": {
        "colab": {
          "base_uri": "https://localhost:8080/",
          "height": 419
        },
        "id": "HT0NWP6HU9-P",
        "outputId": "b2438320-e3b1-4865-a5d4-c5430c2190e6"
      },
      "source": [
        "orders"
      ],
      "execution_count": null,
      "outputs": [
        {
          "output_type": "execute_result",
          "data": {
            "text/html": [
              "<div>\n",
              "<style scoped>\n",
              "    .dataframe tbody tr th:only-of-type {\n",
              "        vertical-align: middle;\n",
              "    }\n",
              "\n",
              "    .dataframe tbody tr th {\n",
              "        vertical-align: top;\n",
              "    }\n",
              "\n",
              "    .dataframe thead th {\n",
              "        text-align: right;\n",
              "    }\n",
              "</style>\n",
              "<table border=\"1\" class=\"dataframe\">\n",
              "  <thead>\n",
              "    <tr style=\"text-align: right;\">\n",
              "      <th></th>\n",
              "      <th>date</th>\n",
              "      <th>clientId</th>\n",
              "      <th>id</th>\n",
              "      <th>ClientOrderStateID</th>\n",
              "    </tr>\n",
              "  </thead>\n",
              "  <tbody>\n",
              "    <tr>\n",
              "      <th>0</th>\n",
              "      <td>2021-03-15 05:35:05</td>\n",
              "      <td>1323</td>\n",
              "      <td>5144</td>\n",
              "      <td>2</td>\n",
              "    </tr>\n",
              "    <tr>\n",
              "      <th>1</th>\n",
              "      <td>2021-03-15 22:54:54</td>\n",
              "      <td>1329</td>\n",
              "      <td>5009</td>\n",
              "      <td>1</td>\n",
              "    </tr>\n",
              "    <tr>\n",
              "      <th>2</th>\n",
              "      <td>2021-03-15 18:18:07</td>\n",
              "      <td>1306</td>\n",
              "      <td>5017</td>\n",
              "      <td>1</td>\n",
              "    </tr>\n",
              "    <tr>\n",
              "      <th>3</th>\n",
              "      <td>2021-03-15 10:30:29</td>\n",
              "      <td>1254</td>\n",
              "      <td>5020</td>\n",
              "      <td>1</td>\n",
              "    </tr>\n",
              "    <tr>\n",
              "      <th>4</th>\n",
              "      <td>2021-03-15 12:26:34</td>\n",
              "      <td>1298</td>\n",
              "      <td>5045</td>\n",
              "      <td>1</td>\n",
              "    </tr>\n",
              "    <tr>\n",
              "      <th>...</th>\n",
              "      <td>...</td>\n",
              "      <td>...</td>\n",
              "      <td>...</td>\n",
              "      <td>...</td>\n",
              "    </tr>\n",
              "    <tr>\n",
              "      <th>195</th>\n",
              "      <td>2021-03-15 04:43:04</td>\n",
              "      <td>1335</td>\n",
              "      <td>5120</td>\n",
              "      <td>3</td>\n",
              "    </tr>\n",
              "    <tr>\n",
              "      <th>196</th>\n",
              "      <td>2021-03-15 10:45:28</td>\n",
              "      <td>1330</td>\n",
              "      <td>5112</td>\n",
              "      <td>3</td>\n",
              "    </tr>\n",
              "    <tr>\n",
              "      <th>197</th>\n",
              "      <td>2021-03-15 04:48:26</td>\n",
              "      <td>1263</td>\n",
              "      <td>5048</td>\n",
              "      <td>3</td>\n",
              "    </tr>\n",
              "    <tr>\n",
              "      <th>198</th>\n",
              "      <td>2021-03-15 06:20:35</td>\n",
              "      <td>1329</td>\n",
              "      <td>5004</td>\n",
              "      <td>2</td>\n",
              "    </tr>\n",
              "    <tr>\n",
              "      <th>199</th>\n",
              "      <td>2021-03-15 15:23:43</td>\n",
              "      <td>1292</td>\n",
              "      <td>5056</td>\n",
              "      <td>1</td>\n",
              "    </tr>\n",
              "  </tbody>\n",
              "</table>\n",
              "<p>200 rows × 4 columns</p>\n",
              "</div>"
            ],
            "text/plain": [
              "                   date  clientId    id  ClientOrderStateID\n",
              "0   2021-03-15 05:35:05      1323  5144                   2\n",
              "1   2021-03-15 22:54:54      1329  5009                   1\n",
              "2   2021-03-15 18:18:07      1306  5017                   1\n",
              "3   2021-03-15 10:30:29      1254  5020                   1\n",
              "4   2021-03-15 12:26:34      1298  5045                   1\n",
              "..                  ...       ...   ...                 ...\n",
              "195 2021-03-15 04:43:04      1335  5120                   3\n",
              "196 2021-03-15 10:45:28      1330  5112                   3\n",
              "197 2021-03-15 04:48:26      1263  5048                   3\n",
              "198 2021-03-15 06:20:35      1329  5004                   2\n",
              "199 2021-03-15 15:23:43      1292  5056                   1\n",
              "\n",
              "[200 rows x 4 columns]"
            ]
          },
          "metadata": {
            "tags": []
          },
          "execution_count": 4
        }
      ]
    },
    {
      "cell_type": "code",
      "metadata": {
        "id": "EOebHw6ZTA1i"
      },
      "source": [
        "orders = orders.rename(columns={\"date\": \"order_date\", \"clientId\": \"client_id\", \"id\": \"order_id\", \"ClientOrderStateID\": \"status\"})"
      ],
      "execution_count": null,
      "outputs": []
    },
    {
      "cell_type": "code",
      "metadata": {
        "colab": {
          "base_uri": "https://localhost:8080/",
          "height": 419
        },
        "id": "5zs3uJ6cUNLK",
        "outputId": "93c57405-ead2-4022-daa2-36cf0f437514"
      },
      "source": [
        "orders"
      ],
      "execution_count": null,
      "outputs": [
        {
          "output_type": "execute_result",
          "data": {
            "text/html": [
              "<div>\n",
              "<style scoped>\n",
              "    .dataframe tbody tr th:only-of-type {\n",
              "        vertical-align: middle;\n",
              "    }\n",
              "\n",
              "    .dataframe tbody tr th {\n",
              "        vertical-align: top;\n",
              "    }\n",
              "\n",
              "    .dataframe thead th {\n",
              "        text-align: right;\n",
              "    }\n",
              "</style>\n",
              "<table border=\"1\" class=\"dataframe\">\n",
              "  <thead>\n",
              "    <tr style=\"text-align: right;\">\n",
              "      <th></th>\n",
              "      <th>order_date</th>\n",
              "      <th>client_id</th>\n",
              "      <th>order_id</th>\n",
              "      <th>status</th>\n",
              "    </tr>\n",
              "  </thead>\n",
              "  <tbody>\n",
              "    <tr>\n",
              "      <th>0</th>\n",
              "      <td>2021-03-15 05:35:05</td>\n",
              "      <td>1323</td>\n",
              "      <td>5144</td>\n",
              "      <td>2</td>\n",
              "    </tr>\n",
              "    <tr>\n",
              "      <th>1</th>\n",
              "      <td>2021-03-15 22:54:54</td>\n",
              "      <td>1329</td>\n",
              "      <td>5009</td>\n",
              "      <td>1</td>\n",
              "    </tr>\n",
              "    <tr>\n",
              "      <th>2</th>\n",
              "      <td>2021-03-15 18:18:07</td>\n",
              "      <td>1306</td>\n",
              "      <td>5017</td>\n",
              "      <td>1</td>\n",
              "    </tr>\n",
              "    <tr>\n",
              "      <th>3</th>\n",
              "      <td>2021-03-15 10:30:29</td>\n",
              "      <td>1254</td>\n",
              "      <td>5020</td>\n",
              "      <td>1</td>\n",
              "    </tr>\n",
              "    <tr>\n",
              "      <th>4</th>\n",
              "      <td>2021-03-15 12:26:34</td>\n",
              "      <td>1298</td>\n",
              "      <td>5045</td>\n",
              "      <td>1</td>\n",
              "    </tr>\n",
              "    <tr>\n",
              "      <th>...</th>\n",
              "      <td>...</td>\n",
              "      <td>...</td>\n",
              "      <td>...</td>\n",
              "      <td>...</td>\n",
              "    </tr>\n",
              "    <tr>\n",
              "      <th>195</th>\n",
              "      <td>2021-03-15 04:43:04</td>\n",
              "      <td>1335</td>\n",
              "      <td>5120</td>\n",
              "      <td>3</td>\n",
              "    </tr>\n",
              "    <tr>\n",
              "      <th>196</th>\n",
              "      <td>2021-03-15 10:45:28</td>\n",
              "      <td>1330</td>\n",
              "      <td>5112</td>\n",
              "      <td>3</td>\n",
              "    </tr>\n",
              "    <tr>\n",
              "      <th>197</th>\n",
              "      <td>2021-03-15 04:48:26</td>\n",
              "      <td>1263</td>\n",
              "      <td>5048</td>\n",
              "      <td>3</td>\n",
              "    </tr>\n",
              "    <tr>\n",
              "      <th>198</th>\n",
              "      <td>2021-03-15 06:20:35</td>\n",
              "      <td>1329</td>\n",
              "      <td>5004</td>\n",
              "      <td>2</td>\n",
              "    </tr>\n",
              "    <tr>\n",
              "      <th>199</th>\n",
              "      <td>2021-03-15 15:23:43</td>\n",
              "      <td>1292</td>\n",
              "      <td>5056</td>\n",
              "      <td>1</td>\n",
              "    </tr>\n",
              "  </tbody>\n",
              "</table>\n",
              "<p>200 rows × 4 columns</p>\n",
              "</div>"
            ],
            "text/plain": [
              "             order_date  client_id  order_id  status\n",
              "0   2021-03-15 05:35:05       1323      5144       2\n",
              "1   2021-03-15 22:54:54       1329      5009       1\n",
              "2   2021-03-15 18:18:07       1306      5017       1\n",
              "3   2021-03-15 10:30:29       1254      5020       1\n",
              "4   2021-03-15 12:26:34       1298      5045       1\n",
              "..                  ...        ...       ...     ...\n",
              "195 2021-03-15 04:43:04       1335      5120       3\n",
              "196 2021-03-15 10:45:28       1330      5112       3\n",
              "197 2021-03-15 04:48:26       1263      5048       3\n",
              "198 2021-03-15 06:20:35       1329      5004       2\n",
              "199 2021-03-15 15:23:43       1292      5056       1\n",
              "\n",
              "[200 rows x 4 columns]"
            ]
          },
          "metadata": {
            "tags": []
          },
          "execution_count": 6
        }
      ]
    },
    {
      "cell_type": "code",
      "metadata": {
        "id": "-KEIF0PWKR46"
      },
      "source": [
        "AdditionalInfo = pd.DataFrame({'ClientOrderID': pd.Series(range(5000, 5200)).sample(200, random_state=21).values,\n",
        "                       'code': pd.Series(['IsTestOrder']).sample(200, replace=True, random_state=21).values,\n",
        "                       'value': pd.Series(['no', 'yes']).sample(200, replace=True, random_state=21).values,\n",
        "                       'platform': pd.Series(['desktop', 'mobile']).sample(200, replace=True, random_state=21).values\n",
        "                       }\n",
        "                      )"
      ],
      "execution_count": null,
      "outputs": []
    },
    {
      "cell_type": "code",
      "metadata": {
        "colab": {
          "base_uri": "https://localhost:8080/",
          "height": 419
        },
        "id": "PCih00FcG8fD",
        "outputId": "2034e1dc-c842-49fd-d201-9dcd8474634a"
      },
      "source": [
        "AdditionalInfo"
      ],
      "execution_count": null,
      "outputs": [
        {
          "output_type": "execute_result",
          "data": {
            "text/html": [
              "<div>\n",
              "<style scoped>\n",
              "    .dataframe tbody tr th:only-of-type {\n",
              "        vertical-align: middle;\n",
              "    }\n",
              "\n",
              "    .dataframe tbody tr th {\n",
              "        vertical-align: top;\n",
              "    }\n",
              "\n",
              "    .dataframe thead th {\n",
              "        text-align: right;\n",
              "    }\n",
              "</style>\n",
              "<table border=\"1\" class=\"dataframe\">\n",
              "  <thead>\n",
              "    <tr style=\"text-align: right;\">\n",
              "      <th></th>\n",
              "      <th>ClientOrderID</th>\n",
              "      <th>code</th>\n",
              "      <th>value</th>\n",
              "      <th>platform</th>\n",
              "    </tr>\n",
              "  </thead>\n",
              "  <tbody>\n",
              "    <tr>\n",
              "      <th>0</th>\n",
              "      <td>5144</td>\n",
              "      <td>IsTestOrder</td>\n",
              "      <td>yes</td>\n",
              "      <td>mobile</td>\n",
              "    </tr>\n",
              "    <tr>\n",
              "      <th>1</th>\n",
              "      <td>5009</td>\n",
              "      <td>IsTestOrder</td>\n",
              "      <td>yes</td>\n",
              "      <td>mobile</td>\n",
              "    </tr>\n",
              "    <tr>\n",
              "      <th>2</th>\n",
              "      <td>5017</td>\n",
              "      <td>IsTestOrder</td>\n",
              "      <td>no</td>\n",
              "      <td>desktop</td>\n",
              "    </tr>\n",
              "    <tr>\n",
              "      <th>3</th>\n",
              "      <td>5020</td>\n",
              "      <td>IsTestOrder</td>\n",
              "      <td>no</td>\n",
              "      <td>desktop</td>\n",
              "    </tr>\n",
              "    <tr>\n",
              "      <th>4</th>\n",
              "      <td>5045</td>\n",
              "      <td>IsTestOrder</td>\n",
              "      <td>no</td>\n",
              "      <td>desktop</td>\n",
              "    </tr>\n",
              "    <tr>\n",
              "      <th>...</th>\n",
              "      <td>...</td>\n",
              "      <td>...</td>\n",
              "      <td>...</td>\n",
              "      <td>...</td>\n",
              "    </tr>\n",
              "    <tr>\n",
              "      <th>195</th>\n",
              "      <td>5120</td>\n",
              "      <td>IsTestOrder</td>\n",
              "      <td>no</td>\n",
              "      <td>desktop</td>\n",
              "    </tr>\n",
              "    <tr>\n",
              "      <th>196</th>\n",
              "      <td>5112</td>\n",
              "      <td>IsTestOrder</td>\n",
              "      <td>no</td>\n",
              "      <td>desktop</td>\n",
              "    </tr>\n",
              "    <tr>\n",
              "      <th>197</th>\n",
              "      <td>5048</td>\n",
              "      <td>IsTestOrder</td>\n",
              "      <td>yes</td>\n",
              "      <td>mobile</td>\n",
              "    </tr>\n",
              "    <tr>\n",
              "      <th>198</th>\n",
              "      <td>5004</td>\n",
              "      <td>IsTestOrder</td>\n",
              "      <td>yes</td>\n",
              "      <td>mobile</td>\n",
              "    </tr>\n",
              "    <tr>\n",
              "      <th>199</th>\n",
              "      <td>5056</td>\n",
              "      <td>IsTestOrder</td>\n",
              "      <td>no</td>\n",
              "      <td>desktop</td>\n",
              "    </tr>\n",
              "  </tbody>\n",
              "</table>\n",
              "<p>200 rows × 4 columns</p>\n",
              "</div>"
            ],
            "text/plain": [
              "     ClientOrderID         code value platform\n",
              "0             5144  IsTestOrder   yes   mobile\n",
              "1             5009  IsTestOrder   yes   mobile\n",
              "2             5017  IsTestOrder    no  desktop\n",
              "3             5020  IsTestOrder    no  desktop\n",
              "4             5045  IsTestOrder    no  desktop\n",
              "..             ...          ...   ...      ...\n",
              "195           5120  IsTestOrder    no  desktop\n",
              "196           5112  IsTestOrder    no  desktop\n",
              "197           5048  IsTestOrder   yes   mobile\n",
              "198           5004  IsTestOrder   yes   mobile\n",
              "199           5056  IsTestOrder    no  desktop\n",
              "\n",
              "[200 rows x 4 columns]"
            ]
          },
          "metadata": {
            "tags": []
          },
          "execution_count": 8
        }
      ]
    },
    {
      "cell_type": "code",
      "metadata": {
        "id": "sTwGT2DqUcko"
      },
      "source": [
        "AdditionalInfo = AdditionalInfo.rename(columns={\"ClientOrderID\": \"order_id\", \"code\": \"parametr\", \"value\": \"value\", \"platform\": \"platform\"})"
      ],
      "execution_count": null,
      "outputs": []
    },
    {
      "cell_type": "code",
      "metadata": {
        "colab": {
          "base_uri": "https://localhost:8080/",
          "height": 419
        },
        "id": "Azr9LaswVjyZ",
        "outputId": "6b70907b-11ce-4737-f441-6c962e644c2b"
      },
      "source": [
        "AdditionalInfo"
      ],
      "execution_count": null,
      "outputs": [
        {
          "output_type": "execute_result",
          "data": {
            "text/html": [
              "<div>\n",
              "<style scoped>\n",
              "    .dataframe tbody tr th:only-of-type {\n",
              "        vertical-align: middle;\n",
              "    }\n",
              "\n",
              "    .dataframe tbody tr th {\n",
              "        vertical-align: top;\n",
              "    }\n",
              "\n",
              "    .dataframe thead th {\n",
              "        text-align: right;\n",
              "    }\n",
              "</style>\n",
              "<table border=\"1\" class=\"dataframe\">\n",
              "  <thead>\n",
              "    <tr style=\"text-align: right;\">\n",
              "      <th></th>\n",
              "      <th>order_id</th>\n",
              "      <th>parametr</th>\n",
              "      <th>value</th>\n",
              "      <th>platform</th>\n",
              "    </tr>\n",
              "  </thead>\n",
              "  <tbody>\n",
              "    <tr>\n",
              "      <th>0</th>\n",
              "      <td>5144</td>\n",
              "      <td>IsTestOrder</td>\n",
              "      <td>yes</td>\n",
              "      <td>mobile</td>\n",
              "    </tr>\n",
              "    <tr>\n",
              "      <th>1</th>\n",
              "      <td>5009</td>\n",
              "      <td>IsTestOrder</td>\n",
              "      <td>yes</td>\n",
              "      <td>mobile</td>\n",
              "    </tr>\n",
              "    <tr>\n",
              "      <th>2</th>\n",
              "      <td>5017</td>\n",
              "      <td>IsTestOrder</td>\n",
              "      <td>no</td>\n",
              "      <td>desktop</td>\n",
              "    </tr>\n",
              "    <tr>\n",
              "      <th>3</th>\n",
              "      <td>5020</td>\n",
              "      <td>IsTestOrder</td>\n",
              "      <td>no</td>\n",
              "      <td>desktop</td>\n",
              "    </tr>\n",
              "    <tr>\n",
              "      <th>4</th>\n",
              "      <td>5045</td>\n",
              "      <td>IsTestOrder</td>\n",
              "      <td>no</td>\n",
              "      <td>desktop</td>\n",
              "    </tr>\n",
              "    <tr>\n",
              "      <th>...</th>\n",
              "      <td>...</td>\n",
              "      <td>...</td>\n",
              "      <td>...</td>\n",
              "      <td>...</td>\n",
              "    </tr>\n",
              "    <tr>\n",
              "      <th>195</th>\n",
              "      <td>5120</td>\n",
              "      <td>IsTestOrder</td>\n",
              "      <td>no</td>\n",
              "      <td>desktop</td>\n",
              "    </tr>\n",
              "    <tr>\n",
              "      <th>196</th>\n",
              "      <td>5112</td>\n",
              "      <td>IsTestOrder</td>\n",
              "      <td>no</td>\n",
              "      <td>desktop</td>\n",
              "    </tr>\n",
              "    <tr>\n",
              "      <th>197</th>\n",
              "      <td>5048</td>\n",
              "      <td>IsTestOrder</td>\n",
              "      <td>yes</td>\n",
              "      <td>mobile</td>\n",
              "    </tr>\n",
              "    <tr>\n",
              "      <th>198</th>\n",
              "      <td>5004</td>\n",
              "      <td>IsTestOrder</td>\n",
              "      <td>yes</td>\n",
              "      <td>mobile</td>\n",
              "    </tr>\n",
              "    <tr>\n",
              "      <th>199</th>\n",
              "      <td>5056</td>\n",
              "      <td>IsTestOrder</td>\n",
              "      <td>no</td>\n",
              "      <td>desktop</td>\n",
              "    </tr>\n",
              "  </tbody>\n",
              "</table>\n",
              "<p>200 rows × 4 columns</p>\n",
              "</div>"
            ],
            "text/plain": [
              "     order_id     parametr value platform\n",
              "0        5144  IsTestOrder   yes   mobile\n",
              "1        5009  IsTestOrder   yes   mobile\n",
              "2        5017  IsTestOrder    no  desktop\n",
              "3        5020  IsTestOrder    no  desktop\n",
              "4        5045  IsTestOrder    no  desktop\n",
              "..        ...          ...   ...      ...\n",
              "195      5120  IsTestOrder    no  desktop\n",
              "196      5112  IsTestOrder    no  desktop\n",
              "197      5048  IsTestOrder   yes   mobile\n",
              "198      5004  IsTestOrder   yes   mobile\n",
              "199      5056  IsTestOrder    no  desktop\n",
              "\n",
              "[200 rows x 4 columns]"
            ]
          },
          "metadata": {
            "tags": []
          },
          "execution_count": 10
        }
      ]
    },
    {
      "cell_type": "code",
      "metadata": {
        "id": "vRZwCU9rKR7X"
      },
      "source": [
        "ClientOrderItem = pd.DataFrame({'ClientOrderID': pd.Series(range(5000, 5200)).sample(200, random_state=21).values,\n",
        "                       'ItemId': pd.Series(range(1000, 1020)).sample(200, replace=True, random_state=21).values,\n",
        "                       'category': pd.Series(range(1, 10)).sample(200, replace=True, random_state=21).values,\n",
        "                       'qty': pd.Series(range(1, 8)).sample(200, replace=True, random_state=21).values,\n",
        "                       'price': pd.Series(range(200, 1000, 50)).sample(200, replace=True, random_state=21).values\n",
        "                       }\n",
        "                      )"
      ],
      "execution_count": null,
      "outputs": []
    },
    {
      "cell_type": "code",
      "metadata": {
        "colab": {
          "base_uri": "https://localhost:8080/",
          "height": 419
        },
        "id": "-f2kEkijKR9-",
        "outputId": "cc30392c-a1e8-4517-c199-242e7e70f8fe"
      },
      "source": [
        "ClientOrderItem"
      ],
      "execution_count": null,
      "outputs": [
        {
          "output_type": "execute_result",
          "data": {
            "text/html": [
              "<div>\n",
              "<style scoped>\n",
              "    .dataframe tbody tr th:only-of-type {\n",
              "        vertical-align: middle;\n",
              "    }\n",
              "\n",
              "    .dataframe tbody tr th {\n",
              "        vertical-align: top;\n",
              "    }\n",
              "\n",
              "    .dataframe thead th {\n",
              "        text-align: right;\n",
              "    }\n",
              "</style>\n",
              "<table border=\"1\" class=\"dataframe\">\n",
              "  <thead>\n",
              "    <tr style=\"text-align: right;\">\n",
              "      <th></th>\n",
              "      <th>ClientOrderID</th>\n",
              "      <th>ItemId</th>\n",
              "      <th>category</th>\n",
              "      <th>qty</th>\n",
              "      <th>price</th>\n",
              "    </tr>\n",
              "  </thead>\n",
              "  <tbody>\n",
              "    <tr>\n",
              "      <th>0</th>\n",
              "      <td>5144</td>\n",
              "      <td>1009</td>\n",
              "      <td>9</td>\n",
              "      <td>2</td>\n",
              "      <td>650</td>\n",
              "    </tr>\n",
              "    <tr>\n",
              "      <th>1</th>\n",
              "      <td>5009</td>\n",
              "      <td>1015</td>\n",
              "      <td>5</td>\n",
              "      <td>1</td>\n",
              "      <td>950</td>\n",
              "    </tr>\n",
              "    <tr>\n",
              "      <th>2</th>\n",
              "      <td>5017</td>\n",
              "      <td>1004</td>\n",
              "      <td>1</td>\n",
              "      <td>5</td>\n",
              "      <td>600</td>\n",
              "    </tr>\n",
              "    <tr>\n",
              "      <th>3</th>\n",
              "      <td>5020</td>\n",
              "      <td>1016</td>\n",
              "      <td>1</td>\n",
              "      <td>1</td>\n",
              "      <td>400</td>\n",
              "    </tr>\n",
              "    <tr>\n",
              "      <th>4</th>\n",
              "      <td>5045</td>\n",
              "      <td>1016</td>\n",
              "      <td>9</td>\n",
              "      <td>1</td>\n",
              "      <td>200</td>\n",
              "    </tr>\n",
              "    <tr>\n",
              "      <th>...</th>\n",
              "      <td>...</td>\n",
              "      <td>...</td>\n",
              "      <td>...</td>\n",
              "      <td>...</td>\n",
              "      <td>...</td>\n",
              "    </tr>\n",
              "    <tr>\n",
              "      <th>195</th>\n",
              "      <td>5120</td>\n",
              "      <td>1009</td>\n",
              "      <td>2</td>\n",
              "      <td>4</td>\n",
              "      <td>700</td>\n",
              "    </tr>\n",
              "    <tr>\n",
              "      <th>196</th>\n",
              "      <td>5112</td>\n",
              "      <td>1011</td>\n",
              "      <td>9</td>\n",
              "      <td>7</td>\n",
              "      <td>600</td>\n",
              "    </tr>\n",
              "    <tr>\n",
              "      <th>197</th>\n",
              "      <td>5048</td>\n",
              "      <td>1015</td>\n",
              "      <td>8</td>\n",
              "      <td>6</td>\n",
              "      <td>850</td>\n",
              "    </tr>\n",
              "    <tr>\n",
              "      <th>198</th>\n",
              "      <td>5004</td>\n",
              "      <td>1013</td>\n",
              "      <td>3</td>\n",
              "      <td>5</td>\n",
              "      <td>450</td>\n",
              "    </tr>\n",
              "    <tr>\n",
              "      <th>199</th>\n",
              "      <td>5056</td>\n",
              "      <td>1003</td>\n",
              "      <td>8</td>\n",
              "      <td>5</td>\n",
              "      <td>200</td>\n",
              "    </tr>\n",
              "  </tbody>\n",
              "</table>\n",
              "<p>200 rows × 5 columns</p>\n",
              "</div>"
            ],
            "text/plain": [
              "     ClientOrderID  ItemId  category  qty  price\n",
              "0             5144    1009         9    2    650\n",
              "1             5009    1015         5    1    950\n",
              "2             5017    1004         1    5    600\n",
              "3             5020    1016         1    1    400\n",
              "4             5045    1016         9    1    200\n",
              "..             ...     ...       ...  ...    ...\n",
              "195           5120    1009         2    4    700\n",
              "196           5112    1011         9    7    600\n",
              "197           5048    1015         8    6    850\n",
              "198           5004    1013         3    5    450\n",
              "199           5056    1003         8    5    200\n",
              "\n",
              "[200 rows x 5 columns]"
            ]
          },
          "metadata": {
            "tags": []
          },
          "execution_count": 12
        }
      ]
    },
    {
      "cell_type": "code",
      "metadata": {
        "id": "Mxczvn3TVsko"
      },
      "source": [
        "ClientOrderItem = ClientOrderItem.rename(columns={\"ClientOrderID\": \"order_id\", \n",
        "                                                  \"ItemId\": \"item_id\", \n",
        "                                                  \"category\": \"category\", \n",
        "                                                  \"qty\": \"quantity\",\n",
        "                                                  \"price\": \"price\"})"
      ],
      "execution_count": null,
      "outputs": []
    },
    {
      "cell_type": "code",
      "metadata": {
        "colab": {
          "base_uri": "https://localhost:8080/",
          "height": 419
        },
        "id": "ADwZOWWKVs-z",
        "outputId": "b9d592b5-7e6a-4333-ff50-d3bb52160052"
      },
      "source": [
        "ClientOrderItem"
      ],
      "execution_count": null,
      "outputs": [
        {
          "output_type": "execute_result",
          "data": {
            "text/html": [
              "<div>\n",
              "<style scoped>\n",
              "    .dataframe tbody tr th:only-of-type {\n",
              "        vertical-align: middle;\n",
              "    }\n",
              "\n",
              "    .dataframe tbody tr th {\n",
              "        vertical-align: top;\n",
              "    }\n",
              "\n",
              "    .dataframe thead th {\n",
              "        text-align: right;\n",
              "    }\n",
              "</style>\n",
              "<table border=\"1\" class=\"dataframe\">\n",
              "  <thead>\n",
              "    <tr style=\"text-align: right;\">\n",
              "      <th></th>\n",
              "      <th>order_id</th>\n",
              "      <th>item_id</th>\n",
              "      <th>category</th>\n",
              "      <th>quantity</th>\n",
              "      <th>price</th>\n",
              "    </tr>\n",
              "  </thead>\n",
              "  <tbody>\n",
              "    <tr>\n",
              "      <th>0</th>\n",
              "      <td>5144</td>\n",
              "      <td>1009</td>\n",
              "      <td>9</td>\n",
              "      <td>2</td>\n",
              "      <td>650</td>\n",
              "    </tr>\n",
              "    <tr>\n",
              "      <th>1</th>\n",
              "      <td>5009</td>\n",
              "      <td>1015</td>\n",
              "      <td>5</td>\n",
              "      <td>1</td>\n",
              "      <td>950</td>\n",
              "    </tr>\n",
              "    <tr>\n",
              "      <th>2</th>\n",
              "      <td>5017</td>\n",
              "      <td>1004</td>\n",
              "      <td>1</td>\n",
              "      <td>5</td>\n",
              "      <td>600</td>\n",
              "    </tr>\n",
              "    <tr>\n",
              "      <th>3</th>\n",
              "      <td>5020</td>\n",
              "      <td>1016</td>\n",
              "      <td>1</td>\n",
              "      <td>1</td>\n",
              "      <td>400</td>\n",
              "    </tr>\n",
              "    <tr>\n",
              "      <th>4</th>\n",
              "      <td>5045</td>\n",
              "      <td>1016</td>\n",
              "      <td>9</td>\n",
              "      <td>1</td>\n",
              "      <td>200</td>\n",
              "    </tr>\n",
              "    <tr>\n",
              "      <th>...</th>\n",
              "      <td>...</td>\n",
              "      <td>...</td>\n",
              "      <td>...</td>\n",
              "      <td>...</td>\n",
              "      <td>...</td>\n",
              "    </tr>\n",
              "    <tr>\n",
              "      <th>195</th>\n",
              "      <td>5120</td>\n",
              "      <td>1009</td>\n",
              "      <td>2</td>\n",
              "      <td>4</td>\n",
              "      <td>700</td>\n",
              "    </tr>\n",
              "    <tr>\n",
              "      <th>196</th>\n",
              "      <td>5112</td>\n",
              "      <td>1011</td>\n",
              "      <td>9</td>\n",
              "      <td>7</td>\n",
              "      <td>600</td>\n",
              "    </tr>\n",
              "    <tr>\n",
              "      <th>197</th>\n",
              "      <td>5048</td>\n",
              "      <td>1015</td>\n",
              "      <td>8</td>\n",
              "      <td>6</td>\n",
              "      <td>850</td>\n",
              "    </tr>\n",
              "    <tr>\n",
              "      <th>198</th>\n",
              "      <td>5004</td>\n",
              "      <td>1013</td>\n",
              "      <td>3</td>\n",
              "      <td>5</td>\n",
              "      <td>450</td>\n",
              "    </tr>\n",
              "    <tr>\n",
              "      <th>199</th>\n",
              "      <td>5056</td>\n",
              "      <td>1003</td>\n",
              "      <td>8</td>\n",
              "      <td>5</td>\n",
              "      <td>200</td>\n",
              "    </tr>\n",
              "  </tbody>\n",
              "</table>\n",
              "<p>200 rows × 5 columns</p>\n",
              "</div>"
            ],
            "text/plain": [
              "     order_id  item_id  category  quantity  price\n",
              "0        5144     1009         9         2    650\n",
              "1        5009     1015         5         1    950\n",
              "2        5017     1004         1         5    600\n",
              "3        5020     1016         1         1    400\n",
              "4        5045     1016         9         1    200\n",
              "..        ...      ...       ...       ...    ...\n",
              "195      5120     1009         2         4    700\n",
              "196      5112     1011         9         7    600\n",
              "197      5048     1015         8         6    850\n",
              "198      5004     1013         3         5    450\n",
              "199      5056     1003         8         5    200\n",
              "\n",
              "[200 rows x 5 columns]"
            ]
          },
          "metadata": {
            "tags": []
          },
          "execution_count": 14
        }
      ]
    },
    {
      "cell_type": "markdown",
      "metadata": {
        "id": "6Is1Um_iL75D"
      },
      "source": [
        "Завершим подготовку данных, напишем функцию для удобства вывода ответов."
      ]
    },
    {
      "cell_type": "code",
      "metadata": {
        "id": "Ggv-yByWKSAw"
      },
      "source": [
        "con = sqlite3.connect('db')\n",
        "cur = con.cursor()"
      ],
      "execution_count": null,
      "outputs": []
    },
    {
      "cell_type": "code",
      "metadata": {
        "id": "QX3dVC_1QP1x"
      },
      "source": [
        "def select (sql):\n",
        "  return pd.read_sql(sql, con)"
      ],
      "execution_count": null,
      "outputs": []
    },
    {
      "cell_type": "code",
      "metadata": {
        "id": "OQQThlRFKSDB"
      },
      "source": [
        "orders.to_sql('orders', con, if_exists='replace')\n",
        "AdditionalInfo.to_sql('AdditionalInfo', con, if_exists='replace')\n",
        "ClientOrderItem.to_sql('ClientOrderItem', con, if_exists='replace')"
      ],
      "execution_count": null,
      "outputs": []
    },
    {
      "cell_type": "markdown",
      "metadata": {
        "id": "4EyoP2wjRD-r"
      },
      "source": [
        "# Выполнение заданий"
      ]
    },
    {
      "cell_type": "markdown",
      "metadata": {
        "id": "viAn1_mrRcce"
      },
      "source": [
        "1. Вывести сколько заказов было оформлено, и сколько получено. Не учитывать тестовые заказы."
      ]
    },
    {
      "cell_type": "code",
      "metadata": {
        "colab": {
          "base_uri": "https://localhost:8080/",
          "height": 80
        },
        "id": "uhRhOVVGKSH-",
        "outputId": "32e3e496-91aa-43d6-cc18-79dcb5703d59"
      },
      "source": [
        "sql = '''SELECT COUNT(order_id) AS total_orders\n",
        "         FROM (SELECT * \n",
        "               FROM orders \n",
        "               LEFT JOIN AdditionalInfo ON AdditionalInfo.order_id = orders.order_id) t\n",
        "         WHERE status = 1 AND value = 'no'\n",
        "         '''\n",
        "select(sql)"
      ],
      "execution_count": null,
      "outputs": [
        {
          "output_type": "execute_result",
          "data": {
            "text/html": [
              "<div>\n",
              "<style scoped>\n",
              "    .dataframe tbody tr th:only-of-type {\n",
              "        vertical-align: middle;\n",
              "    }\n",
              "\n",
              "    .dataframe tbody tr th {\n",
              "        vertical-align: top;\n",
              "    }\n",
              "\n",
              "    .dataframe thead th {\n",
              "        text-align: right;\n",
              "    }\n",
              "</style>\n",
              "<table border=\"1\" class=\"dataframe\">\n",
              "  <thead>\n",
              "    <tr style=\"text-align: right;\">\n",
              "      <th></th>\n",
              "      <th>total_orders</th>\n",
              "    </tr>\n",
              "  </thead>\n",
              "  <tbody>\n",
              "    <tr>\n",
              "      <th>0</th>\n",
              "      <td>42</td>\n",
              "    </tr>\n",
              "  </tbody>\n",
              "</table>\n",
              "</div>"
            ],
            "text/plain": [
              "   total_orders\n",
              "0            42"
            ]
          },
          "metadata": {
            "tags": []
          },
          "execution_count": 18
        }
      ]
    },
    {
      "cell_type": "code",
      "metadata": {
        "id": "Ipl3Reg1QTuI",
        "colab": {
          "base_uri": "https://localhost:8080/",
          "height": 80
        },
        "outputId": "c8364408-b1ed-46be-a2bc-23c435d91da4"
      },
      "source": [
        "sql = '''SELECT COUNT(order_id) AS order_received\n",
        "         FROM (SELECT * \n",
        "               FROM orders \n",
        "               LEFT JOIN AdditionalInfo ON AdditionalInfo.order_id = orders.order_id) t\n",
        "         WHERE status = 2 AND value = 'no'\n",
        "         '''\n",
        "select(sql)"
      ],
      "execution_count": null,
      "outputs": [
        {
          "output_type": "execute_result",
          "data": {
            "text/html": [
              "<div>\n",
              "<style scoped>\n",
              "    .dataframe tbody tr th:only-of-type {\n",
              "        vertical-align: middle;\n",
              "    }\n",
              "\n",
              "    .dataframe tbody tr th {\n",
              "        vertical-align: top;\n",
              "    }\n",
              "\n",
              "    .dataframe thead th {\n",
              "        text-align: right;\n",
              "    }\n",
              "</style>\n",
              "<table border=\"1\" class=\"dataframe\">\n",
              "  <thead>\n",
              "    <tr style=\"text-align: right;\">\n",
              "      <th></th>\n",
              "      <th>order_received</th>\n",
              "    </tr>\n",
              "  </thead>\n",
              "  <tbody>\n",
              "    <tr>\n",
              "      <th>0</th>\n",
              "      <td>30</td>\n",
              "    </tr>\n",
              "  </tbody>\n",
              "</table>\n",
              "</div>"
            ],
            "text/plain": [
              "   order_received\n",
              "0              30"
            ]
          },
          "metadata": {
            "tags": []
          },
          "execution_count": 19
        }
      ]
    },
    {
      "cell_type": "markdown",
      "metadata": {
        "id": "ab7t8Ag8MbVq"
      },
      "source": [
        "42 заказа было оформлено, 30 получено."
      ]
    },
    {
      "cell_type": "markdown",
      "metadata": {
        "id": "PGF4am8uNY4Q"
      },
      "source": [
        "2. Для каждой платформы и категории посчитать: сколько было куплено товаров, сколько было получено заказов, GMV. Не учитывать тестовые заказы"
      ]
    },
    {
      "cell_type": "code",
      "metadata": {
        "id": "oTOY79ABQTy5",
        "colab": {
          "base_uri": "https://localhost:8080/",
          "height": 328
        },
        "outputId": "68d34c3c-5597-4861-fd38-a927cd32d734"
      },
      "source": [
        "sql = '''SELECT platform,\n",
        "                category,\n",
        "                SUM(quantity) AS purchased_goods,\n",
        "                COUNT(order_id) AS number_of_orders,\n",
        "                SUM(price) AS gmv\n",
        "         FROM (SELECT * \n",
        "               FROM orders \n",
        "               LEFT JOIN AdditionalInfo ON AdditionalInfo.order_id = orders.order_id\n",
        "               LEFT JOIN ClientOrderItem ON ClientOrderItem.order_id = AdditionalInfo.order_id\n",
        "               WHERE value = 'no' AND status != 3) t\n",
        "         GROUP BY platform, category\n",
        "         '''\n",
        "select(sql)"
      ],
      "execution_count": null,
      "outputs": [
        {
          "output_type": "execute_result",
          "data": {
            "text/html": [
              "<div>\n",
              "<style scoped>\n",
              "    .dataframe tbody tr th:only-of-type {\n",
              "        vertical-align: middle;\n",
              "    }\n",
              "\n",
              "    .dataframe tbody tr th {\n",
              "        vertical-align: top;\n",
              "    }\n",
              "\n",
              "    .dataframe thead th {\n",
              "        text-align: right;\n",
              "    }\n",
              "</style>\n",
              "<table border=\"1\" class=\"dataframe\">\n",
              "  <thead>\n",
              "    <tr style=\"text-align: right;\">\n",
              "      <th></th>\n",
              "      <th>platform</th>\n",
              "      <th>category</th>\n",
              "      <th>purchased_goods</th>\n",
              "      <th>number_of_orders</th>\n",
              "      <th>gmv</th>\n",
              "    </tr>\n",
              "  </thead>\n",
              "  <tbody>\n",
              "    <tr>\n",
              "      <th>0</th>\n",
              "      <td>desktop</td>\n",
              "      <td>1</td>\n",
              "      <td>36</td>\n",
              "      <td>12</td>\n",
              "      <td>5700</td>\n",
              "    </tr>\n",
              "    <tr>\n",
              "      <th>1</th>\n",
              "      <td>desktop</td>\n",
              "      <td>2</td>\n",
              "      <td>11</td>\n",
              "      <td>5</td>\n",
              "      <td>2700</td>\n",
              "    </tr>\n",
              "    <tr>\n",
              "      <th>2</th>\n",
              "      <td>desktop</td>\n",
              "      <td>3</td>\n",
              "      <td>29</td>\n",
              "      <td>6</td>\n",
              "      <td>3100</td>\n",
              "    </tr>\n",
              "    <tr>\n",
              "      <th>3</th>\n",
              "      <td>desktop</td>\n",
              "      <td>4</td>\n",
              "      <td>22</td>\n",
              "      <td>6</td>\n",
              "      <td>3400</td>\n",
              "    </tr>\n",
              "    <tr>\n",
              "      <th>4</th>\n",
              "      <td>desktop</td>\n",
              "      <td>5</td>\n",
              "      <td>17</td>\n",
              "      <td>4</td>\n",
              "      <td>2200</td>\n",
              "    </tr>\n",
              "    <tr>\n",
              "      <th>5</th>\n",
              "      <td>desktop</td>\n",
              "      <td>6</td>\n",
              "      <td>52</td>\n",
              "      <td>11</td>\n",
              "      <td>4900</td>\n",
              "    </tr>\n",
              "    <tr>\n",
              "      <th>6</th>\n",
              "      <td>desktop</td>\n",
              "      <td>7</td>\n",
              "      <td>43</td>\n",
              "      <td>12</td>\n",
              "      <td>7900</td>\n",
              "    </tr>\n",
              "    <tr>\n",
              "      <th>7</th>\n",
              "      <td>desktop</td>\n",
              "      <td>8</td>\n",
              "      <td>23</td>\n",
              "      <td>6</td>\n",
              "      <td>3000</td>\n",
              "    </tr>\n",
              "    <tr>\n",
              "      <th>8</th>\n",
              "      <td>desktop</td>\n",
              "      <td>9</td>\n",
              "      <td>39</td>\n",
              "      <td>10</td>\n",
              "      <td>4400</td>\n",
              "    </tr>\n",
              "  </tbody>\n",
              "</table>\n",
              "</div>"
            ],
            "text/plain": [
              "  platform  category  purchased_goods  number_of_orders   gmv\n",
              "0  desktop         1               36                12  5700\n",
              "1  desktop         2               11                 5  2700\n",
              "2  desktop         3               29                 6  3100\n",
              "3  desktop         4               22                 6  3400\n",
              "4  desktop         5               17                 4  2200\n",
              "5  desktop         6               52                11  4900\n",
              "6  desktop         7               43                12  7900\n",
              "7  desktop         8               23                 6  3000\n",
              "8  desktop         9               39                10  4400"
            ]
          },
          "metadata": {
            "tags": []
          },
          "execution_count": 20
        }
      ]
    },
    {
      "cell_type": "markdown",
      "metadata": {
        "id": "3l34jHHWMowa"
      },
      "source": [
        "Получили вывод по всем 9-ти категориям по платформе `desktop`, платформа `mobile` отсеялась по фильтру `value='no'`."
      ]
    },
    {
      "cell_type": "markdown",
      "metadata": {
        "id": "hcbvKFmgXeo1"
      },
      "source": [
        "3. Найти категорию, которая приносит наибольшую выручку"
      ]
    },
    {
      "cell_type": "code",
      "metadata": {
        "id": "mH_gs7bQQT6E",
        "colab": {
          "base_uri": "https://localhost:8080/",
          "height": 80
        },
        "outputId": "6afd4421-7659-4014-b52e-c1de3de4c0d7"
      },
      "source": [
        "sql = '''SELECT category AS best_category,\n",
        "                SUM(price) AS proceeds\n",
        "         FROM (SELECT * \n",
        "               FROM orders \n",
        "               LEFT JOIN AdditionalInfo ON AdditionalInfo.order_id = orders.order_id\n",
        "               LEFT JOIN ClientOrderItem ON ClientOrderItem.order_id = AdditionalInfo.order_id\n",
        "               WHERE value = 'no' AND status != 3) t\n",
        "         GROUP BY category\n",
        "         ORDER BY proceeds DESC\n",
        "         LIMIT 1\n",
        "         '''\n",
        "select(sql)"
      ],
      "execution_count": null,
      "outputs": [
        {
          "output_type": "execute_result",
          "data": {
            "text/html": [
              "<div>\n",
              "<style scoped>\n",
              "    .dataframe tbody tr th:only-of-type {\n",
              "        vertical-align: middle;\n",
              "    }\n",
              "\n",
              "    .dataframe tbody tr th {\n",
              "        vertical-align: top;\n",
              "    }\n",
              "\n",
              "    .dataframe thead th {\n",
              "        text-align: right;\n",
              "    }\n",
              "</style>\n",
              "<table border=\"1\" class=\"dataframe\">\n",
              "  <thead>\n",
              "    <tr style=\"text-align: right;\">\n",
              "      <th></th>\n",
              "      <th>best_category</th>\n",
              "      <th>proceeds</th>\n",
              "    </tr>\n",
              "  </thead>\n",
              "  <tbody>\n",
              "    <tr>\n",
              "      <th>0</th>\n",
              "      <td>7</td>\n",
              "      <td>7900</td>\n",
              "    </tr>\n",
              "  </tbody>\n",
              "</table>\n",
              "</div>"
            ],
            "text/plain": [
              "   best_category  proceeds\n",
              "0              7      7900"
            ]
          },
          "metadata": {
            "tags": []
          },
          "execution_count": 21
        }
      ]
    },
    {
      "cell_type": "markdown",
      "metadata": {
        "id": "WorkpYS5NBlZ"
      },
      "source": [
        "Категория 7 принесла наибольшую выручку."
      ]
    },
    {
      "cell_type": "markdown",
      "metadata": {
        "id": "b-rM4cTRalPF"
      },
      "source": [
        "4. Какой товар чаще других встречается в отмененных заказах."
      ]
    },
    {
      "cell_type": "code",
      "metadata": {
        "id": "k2bQWeMHQT8o",
        "colab": {
          "base_uri": "https://localhost:8080/",
          "height": 80
        },
        "outputId": "8d4fdda1-bcf4-4084-c701-01192205801b"
      },
      "source": [
        "sql = '''SELECT item_id,\n",
        "                COUNT(item_id) AS amount\n",
        "         FROM (SELECT *\n",
        "               FROM orders \n",
        "               LEFT JOIN AdditionalInfo ON AdditionalInfo.order_id = orders.order_id\n",
        "               LEFT JOIN ClientOrderItem ON ClientOrderItem.order_id = AdditionalInfo.order_id\n",
        "               WHERE value = 'no' AND status = 3) t\n",
        "         GROUP BY item_id\n",
        "         ORDER BY amount DESC\n",
        "         LIMIT 1\n",
        "         '''\n",
        "select(sql)"
      ],
      "execution_count": null,
      "outputs": [
        {
          "output_type": "execute_result",
          "data": {
            "text/html": [
              "<div>\n",
              "<style scoped>\n",
              "    .dataframe tbody tr th:only-of-type {\n",
              "        vertical-align: middle;\n",
              "    }\n",
              "\n",
              "    .dataframe tbody tr th {\n",
              "        vertical-align: top;\n",
              "    }\n",
              "\n",
              "    .dataframe thead th {\n",
              "        text-align: right;\n",
              "    }\n",
              "</style>\n",
              "<table border=\"1\" class=\"dataframe\">\n",
              "  <thead>\n",
              "    <tr style=\"text-align: right;\">\n",
              "      <th></th>\n",
              "      <th>item_id</th>\n",
              "      <th>amount</th>\n",
              "    </tr>\n",
              "  </thead>\n",
              "  <tbody>\n",
              "    <tr>\n",
              "      <th>0</th>\n",
              "      <td>1000</td>\n",
              "      <td>4</td>\n",
              "    </tr>\n",
              "  </tbody>\n",
              "</table>\n",
              "</div>"
            ],
            "text/plain": [
              "   item_id  amount\n",
              "0     1000       4"
            ]
          },
          "metadata": {
            "tags": []
          },
          "execution_count": 22
        }
      ]
    },
    {
      "cell_type": "markdown",
      "metadata": {
        "id": "OfQcLgqONLAy"
      },
      "source": [
        "Товар с `id=1000` чаще всего встречается в отменённых заказах."
      ]
    }
  ]
}